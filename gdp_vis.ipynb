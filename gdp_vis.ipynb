{
 "cells": [
  {
   "cell_type": "code",
   "execution_count": 1,
   "metadata": {},
   "outputs": [],
   "source": [
    "import numpy as np\n",
    "import pandas as pd\n",
    "import plotly.graph_objects as go\n",
    "import ipywidgets as widgets"
   ]
  },
  {
   "cell_type": "code",
   "execution_count": null,
   "metadata": {},
   "outputs": [],
   "source": [
    "\"\"\"\n",
    "- Highest, Lowest Correlation values and countries\n",
    "- Average correlation value\n",
    "\"\"\""
   ]
  },
  {
   "cell_type": "code",
   "execution_count": 4,
   "metadata": {},
   "outputs": [],
   "source": [
    "emm_gdp = pd.read_excel(\"Datasets\\GDP\\Correlation - Emissions vs GDP.xlsx\", sheet_name=\"Correlation\")\n",
    "countries = emm_gdp[\"Country\"]"
   ]
  },
  {
   "cell_type": "code",
   "execution_count": 5,
   "metadata": {},
   "outputs": [
    {
     "data": {
      "text/html": [
       "<div>\n",
       "<style scoped>\n",
       "    .dataframe tbody tr th:only-of-type {\n",
       "        vertical-align: middle;\n",
       "    }\n",
       "\n",
       "    .dataframe tbody tr th {\n",
       "        vertical-align: top;\n",
       "    }\n",
       "\n",
       "    .dataframe thead th {\n",
       "        text-align: right;\n",
       "    }\n",
       "</style>\n",
       "<table border=\"1\" class=\"dataframe\">\n",
       "  <thead>\n",
       "    <tr style=\"text-align: right;\">\n",
       "      <th></th>\n",
       "      <th>Country</th>\n",
       "      <th>Rho</th>\n",
       "    </tr>\n",
       "  </thead>\n",
       "  <tbody>\n",
       "    <tr>\n",
       "      <th>0</th>\n",
       "      <td>Afghanistan</td>\n",
       "      <td>0.951424</td>\n",
       "    </tr>\n",
       "    <tr>\n",
       "      <th>1</th>\n",
       "      <td>Albania</td>\n",
       "      <td>0.856674</td>\n",
       "    </tr>\n",
       "    <tr>\n",
       "      <th>2</th>\n",
       "      <td>Algeria</td>\n",
       "      <td>0.965019</td>\n",
       "    </tr>\n",
       "    <tr>\n",
       "      <th>3</th>\n",
       "      <td>Angola</td>\n",
       "      <td>0.910677</td>\n",
       "    </tr>\n",
       "    <tr>\n",
       "      <th>4</th>\n",
       "      <td>Argentina</td>\n",
       "      <td>0.962716</td>\n",
       "    </tr>\n",
       "  </tbody>\n",
       "</table>\n",
       "</div>"
      ],
      "text/plain": [
       "       Country       Rho\n",
       "0  Afghanistan  0.951424\n",
       "1      Albania  0.856674\n",
       "2      Algeria  0.965019\n",
       "3       Angola  0.910677\n",
       "4    Argentina  0.962716"
      ]
     },
     "execution_count": 5,
     "metadata": {},
     "output_type": "execute_result"
    }
   ],
   "source": [
    "emm_gdp.head()"
   ]
  },
  {
   "cell_type": "code",
   "execution_count": 16,
   "metadata": {},
   "outputs": [
    {
     "data": {
      "application/vnd.jupyter.widget-view+json": {
       "model_id": "70b2a1990ede47b89ee973a645ca187c",
       "version_major": 2,
       "version_minor": 0
      },
      "text/plain": [
       "FigureWidget({\n",
       "    'data': [{'colorscale': [[0.0, 'rgb(5,48,97)'], [0.1, 'rgb(33,102,172)'],\n",
       "                             [0.2, 'rgb(67,147,195)'], [0.3, 'rgb(146,197,222)'],\n",
       "                             [0.4, 'rgb(209,229,240)'], [0.5, 'rgb(247,247,247)'],\n",
       "                             [0.6, 'rgb(253,219,199)'], [0.7, 'rgb(244,165,130)'],\n",
       "                             [0.8, 'rgb(214,96,77)'], [0.9, 'rgb(178,24,43)'],\n",
       "                             [1.0, 'rgb(103,0,31)']],\n",
       "              'locationmode': 'country names',\n",
       "              'locations': array(['Afghanistan', 'Albania', 'Algeria', 'Angola', 'Argentina', 'Armenia',\n",
       "                                  'Australia', 'Austria', 'Azerbaijan', 'Bahrain', 'Bangladesh',\n",
       "                                  'Barbados', 'Belarus', 'Belgium', 'Benin', 'Bolivia',\n",
       "                                  'Bosnia and Herzegovina', 'Botswana', 'Brazil', 'Bulgaria',\n",
       "                                  'Burkina Faso', 'Burundi', 'Cambodia', 'Cameroon', 'Canada',\n",
       "                                  'Cape Verde', 'Central African Republic', 'Chad', 'Chile', 'China',\n",
       "                                  'Colombia', 'Comoros', 'Congo', 'Costa Rica', \"Cote d'Ivoire\",\n",
       "                                  'Croatia', 'Cuba', 'Cyprus', 'Czechia', 'Democratic Republic of Congo',\n",
       "                                  'Denmark', 'Djibouti', 'Dominica', 'Dominican Republic', 'Ecuador',\n",
       "                                  'Egypt', 'El Salvador', 'Equatorial Guinea', 'Estonia', 'Eswatini',\n",
       "                                  'Ethiopia', 'Finland', 'France', 'Gabon', 'Gambia', 'Georgia',\n",
       "                                  'Germany', 'Ghana', 'Greece', 'Guatemala', 'Guinea', 'Guinea-Bissau',\n",
       "                                  'Haiti', 'Honduras', 'Hong Kong', 'Hungary', 'Iceland', 'India',\n",
       "                                  'Indonesia', 'Iran', 'Iraq', 'Ireland', 'Israel', 'Italy', 'Jamaica',\n",
       "                                  'Japan', 'Jordan', 'Kazakhstan', 'Kenya', 'Kuwait', 'Kyrgyzstan',\n",
       "                                  'Laos', 'Latvia', 'Lebanon', 'Lesotho', 'Liberia', 'Libya', 'Lithuania',\n",
       "                                  'Luxembourg', 'Madagascar', 'Malawi', 'Malaysia', 'Mali', 'Malta',\n",
       "                                  'Mauritania', 'Mauritius', 'Mexico', 'Moldova', 'Mongolia',\n",
       "                                  'Montenegro', 'Morocco', 'Mozambique', 'Myanmar', 'Namibia', 'Nepal',\n",
       "                                  'Netherlands', 'New Zealand', 'Nicaragua', 'Niger', 'Nigeria',\n",
       "                                  'North Korea', 'North Macedonia', 'Norway', 'Oman', 'Pakistan',\n",
       "                                  'Palestine', 'Panama', 'Paraguay', 'Peru', 'Philippines', 'Poland',\n",
       "                                  'Portugal', 'Qatar', 'Romania', 'Russia', 'Rwanda', 'Saint Lucia',\n",
       "                                  'Sao Tome and Principe', 'Saudi Arabia', 'Senegal', 'Serbia',\n",
       "                                  'Seychelles', 'Sierra Leone', 'Singapore', 'Slovakia', 'Slovenia',\n",
       "                                  'South Africa', 'South Korea', 'Spain', 'Sri Lanka', 'Sweden',\n",
       "                                  'Switzerland', 'Syria', 'Taiwan', 'Tajikistan', 'Tanzania', 'Thailand',\n",
       "                                  'Togo', 'Trinidad and Tobago', 'Tunisia', 'Turkey', 'Turkmenistan',\n",
       "                                  'Uganda', 'Ukraine', 'United Arab Emirates', 'United Kingdom',\n",
       "                                  'United States', 'Uruguay', 'Uzbekistan', 'Venezuela', 'Vietnam',\n",
       "                                  'World', 'Yemen', 'Zambia', 'Zimbabwe'], dtype=object),\n",
       "              'marker': {'line': {'color': 'rgb(0,0,0)', 'width': 1}},\n",
       "              'type': 'choropleth',\n",
       "              'uid': '05032211-5502-443b-b279-98eb5a79f1a5',\n",
       "              'z': array([ 0.95142376,  0.85667398,  0.96501862,  0.91067661,  0.96271554,\n",
       "                           0.92928105,  0.88668114, -0.3086879 ,  0.51287985,  0.94280353,\n",
       "                           0.9967727 ,  0.3620542 ,  0.80638905, -0.88875242,  0.96508226,\n",
       "                           0.9881712 ,  0.89566794,  0.89565458,  0.95487578, -0.09294296,\n",
       "                           0.98614976,  0.74497897,  0.95961957,  0.9336151 ,  0.16850144,\n",
       "                           0.84458261,  0.22987171,  0.98035272,  0.96435501,  0.97401509,\n",
       "                           0.95575862,  0.83331215,  0.87217365,  0.83421437,  0.85982676,\n",
       "                          -0.13116857,  0.36122871,  0.41797964, -0.74529564,  0.74492163,\n",
       "                          -0.83484622,  0.20293735,  0.86574492,  0.87610275,  0.96300927,\n",
       "                           0.9763262 ,  0.44142438,  0.83810883,  0.56485661, -0.28148496,\n",
       "                           0.98720617, -0.42060052, -0.85765488, -0.0645899 ,  0.96094743,\n",
       "                           0.9630996 , -0.91440012,  0.95964226,  0.57735146,  0.89248906,\n",
       "                           0.9429193 ,  0.93999162,  0.95457183,  0.97249867,  0.51021407,\n",
       "                          -0.75752568,  0.81939699,  0.99744028,  0.97991097,  0.9535041 ,\n",
       "                           0.86320655, -0.54441527,  0.23689119, -0.20413589, -0.05153404,\n",
       "                          -0.33339284,  0.9596814 ,  0.98383535,  0.94193761,  0.90908996,\n",
       "                           0.93430576,  0.86339082,  0.22331436,  0.83530207,  0.59797532,\n",
       "                           0.26922987,  0.25521285,  0.41643665, -0.05533258,  0.85499887,\n",
       "                           0.82837369,  0.9702264 ,  0.96617062, -0.89904164,  0.94897253,\n",
       "                           0.94911414,  0.82543538,  0.75010897,  0.9003722 ,  0.7292575 ,\n",
       "                           0.9739123 ,  0.89715713,  0.84434479,  0.9576829 ,  0.90386608,\n",
       "                          -0.6555242 ,  0.36395491,  0.9342    ,  0.92004344,  0.66684107,\n",
       "                          -0.64232894, -0.66902849,  0.70897721,  0.98058307,  0.95335655,\n",
       "                           0.77976009,  0.95948964,  0.91319273,  0.97599674,  0.94699111,\n",
       "                           0.29666991, -0.4616612 ,  0.98185562, -0.5638495 ,  0.92098553,\n",
       "                           0.94405715,  0.95427213,  0.98385139,  0.97362465,  0.96332398,\n",
       "                          -0.18610249,  0.94219908,  0.94170526,  0.0702729 , -0.85536789,\n",
       "                          -0.10436285,  0.75024347,  0.97835474, -0.23111549,  0.94520311,\n",
       "                          -0.88949903, -0.76846268,  0.92150992,  0.86640091,  0.86774064,\n",
       "                           0.98818622,  0.99226584,  0.44300415,  0.97956784,  0.98601672,\n",
       "                           0.97290252,  0.87866619,  0.99383843,  0.0458758 ,  0.97789834,\n",
       "                          -0.84672749, -0.73276458,  0.55009906, -0.85277301,  0.73428248,\n",
       "                           0.99177258,  0.98908871,  0.95688262,  0.93058243,  0.86617855]),\n",
       "              'zmax': 1,\n",
       "              'zmin': -1}],\n",
       "    'layout': {'geo': {'lataxis': {'gridcolor': 'rgb(102, 102, 102)', 'showgrid': True},\n",
       "                       'lonaxis': {'gridcolor': 'rgb(102, 102, 102)', 'showgrid': True},\n",
       "                       'showframe': False},\n",
       "               'height': 600,\n",
       "               'template': '...',\n",
       "               'title': {'text': 'Correlation between CO2 emissions and GDP'},\n",
       "               'width': 800}\n",
       "})"
      ]
     },
     "execution_count": 16,
     "metadata": {},
     "output_type": "execute_result"
    }
   ],
   "source": [
    "globe = go.FigureWidget(data=go.Choropleth(\n",
    "    locations=countries,\n",
    "    z=emm_gdp[\"Rho\"],\n",
    "    locationmode='country names',\n",
    "    # text=countries,\n",
    "    marker=dict(line=dict(color='rgb(0,0,0)', width=1)),\n",
    "    colorscale='RdBu_r',\n",
    "    zmin=-1,\n",
    "    zmax=1,\n",
    "))\n",
    "\n",
    "globe.update_layout(\n",
    "    title='Correlation between CO2 emissions and GDP',\n",
    "    width=800,\n",
    "    height=600,\n",
    ")"
   ]
  }
 ],
 "metadata": {
  "kernelspec": {
   "display_name": "ml_env",
   "language": "python",
   "name": "python3"
  },
  "language_info": {
   "codemirror_mode": {
    "name": "ipython",
    "version": 3
   },
   "file_extension": ".py",
   "mimetype": "text/x-python",
   "name": "python",
   "nbconvert_exporter": "python",
   "pygments_lexer": "ipython3",
   "version": "3.8.0"
  }
 },
 "nbformat": 4,
 "nbformat_minor": 2
}
